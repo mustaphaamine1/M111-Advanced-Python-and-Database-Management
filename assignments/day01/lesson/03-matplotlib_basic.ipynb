{
 "cells": [
  {
   "cell_type": "markdown",
   "id": "8a20bb89",
   "metadata": {},
   "source": [
    "# Matplotlib "
   ]
  },
  {
   "cell_type": "markdown",
   "id": "bafe493f",
   "metadata": {},
   "source": [
    "## What is Matplotlib"
   ]
  },
  {
   "cell_type": "markdown",
   "id": "69e7f242",
   "metadata": {},
   "source": [
    "To make necessary statistical inferences, it becomes necessary to visualize your data and Matplotlib is one such solution for the Python users. It is a very powerful plotting library useful for those working with Python and NumPy. The most used module of Matplotib is Pyplot which provides an interface like MATLAB but instead, it uses Python and it is open source."
   ]
  },
  {
   "cell_type": "markdown",
   "id": "cc7ebc25",
   "metadata": {},
   "source": [
    "## General Concepts"
   ]
  },
  {
   "cell_type": "markdown",
   "id": "1350da69",
   "metadata": {},
   "source": [
    "A Matplotlib figure can be categorized into several parts as below:\n",
    "\n",
    "**Figure:** It is a whole figure which may contain one or more than one axes (plots). You can think of a `Figure` as a canvas which contains plots.\n",
    "\n",
    "**Axes:** It is what we generally think of as a plot. A `Figure` can contain many Axes. It contains two or three (in the case of 3D) Axis objects. Each Axes has a title, an x-label and a y-label.\n",
    "\n",
    "**Axis:** They are the number line like objects and take care of generating the graph limits.\n",
    "\n",
    "**Artist:** Everything which one can see on the figure is an artist like Text objects, Line2D objects, collection objects. Most Artists are tied to Axes.\n",
    "\n",
    "![matplotlib](../data/figure-matplotlib.png)"
   ]
  },
  {
   "cell_type": "markdown",
   "id": "54db2930",
   "metadata": {},
   "source": [
    "## Make a simple plot"
   ]
  },
  {
   "cell_type": "code",
   "execution_count": null,
   "id": "cd588cfd",
   "metadata": {},
   "outputs": [],
   "source": [
    "import matplotlib.pyplot as plt\n",
    "import numpy as np"
   ]
  },
  {
   "cell_type": "markdown",
   "id": "6ab2c2ac",
   "metadata": {},
   "source": [
    "Here we import Matplotlib’s Pyplot module and Numpy library as most of the data that we will be working with will be in the form of arrays only."
   ]
  },
  {
   "cell_type": "markdown",
   "id": "89aa8fae",
   "metadata": {},
   "source": [
    "Generating visualizations with pyplot is very quick:"
   ]
  },
  {
   "cell_type": "code",
   "execution_count": null,
   "id": "27a8bed6",
   "metadata": {},
   "outputs": [],
   "source": [
    "import matplotlib.pyplot as plt\n",
    "plt.plot([1, 2, 3, 4])\n",
    "plt.ylabel('some numbers')\n",
    "plt.xlabel(\"toto\")\n",
    "plt.show()"
   ]
  },
  {
   "cell_type": "markdown",
   "id": "d52f5d13",
   "metadata": {},
   "source": [
    "You may be wondering why the x-axis ranges from 0-3 and the y-axis from 1-4. If you provide a single list or array to `plot`, matplotlib assumes it is a sequence of y values, and automatically generates the x values for you. Since python ranges start with 0, the default x vector has the same length as y but starts with 0. Hence the x data are [0, 1, 2, 3]."
   ]
  },
  {
   "cell_type": "markdown",
   "id": "aa05931d",
   "metadata": {},
   "source": [
    "`plot` is a versatile function, and will take an arbitrary number of arguments. For example, to plot x versus y, you can write:"
   ]
  },
  {
   "cell_type": "code",
   "execution_count": null,
   "id": "f68344db",
   "metadata": {},
   "outputs": [],
   "source": [
    "plt.plot([1, 2, 3, 4], [1, 4 , 9, 6])"
   ]
  },
  {
   "cell_type": "markdown",
   "id": "731eddc2",
   "metadata": {},
   "source": [
    "Let us now see how we can add a title, as well as the x-axis and y-axis names, using the title(), xlabel(), and ylabel() methods, respectively."
   ]
  },
  {
   "cell_type": "code",
   "execution_count": null,
   "id": "28e97e5b",
   "metadata": {},
   "outputs": [],
   "source": [
    "from matplotlib import pyplot as plt\n",
    "\n",
    "x_values = np.linspace(-3, 3, 100)\n",
    "\n",
    "plt.figure()\n",
    "plt.plot(x_values, np.sin(x_values), label=\"Sinusoid\")\n",
    "plt.xlabel(\"x\")\n",
    "plt.ylabel(\"sin(x)\")\n",
    "plt.title(\"Matplotlib example\")\n",
    "plt.legend(loc=\"upper left\")\n",
    "plt.show()"
   ]
  },
  {
   "cell_type": "markdown",
   "id": "e59ccb0b",
   "metadata": {},
   "source": [
    "## Matplotlib Subplots"
   ]
  },
  {
   "cell_type": "markdown",
   "id": "b8444168",
   "metadata": {},
   "source": [
    "You can use the subplot() method to add more than one plot in a figure. \n",
    "\n",
    "Syntax: plt.subplots(nrows, ncols, index)\n",
    "\n",
    "The three-integer arguments specify the number of rows and columns and the index of the subplot grid.\n",
    "\n",
    "Example:"
   ]
  },
  {
   "cell_type": "code",
   "execution_count": null,
   "id": "d5bd8b46",
   "metadata": {},
   "outputs": [],
   "source": [
    "from matplotlib import pyplot as plt\n",
    "plt.subplot(1, 3, 1)\n",
    "plt.plot([1, 2, 3], [3, 2, 2])\n",
    "plt.title(\"1st subplot\")\n",
    "\n",
    "plt.subplot(1, 3, 2)\n",
    "plt.plot([2, 3, 3], [3, 2, 2], \"r^\")\n",
    "plt.title(\"2nd subplot\")\n",
    "\n",
    "plt.subplot(1, 3, 3)\n",
    "plt.plot([2, 3, 3], [3, 2, 2])\n",
    "plt.title(\"2nd subplot\")\n",
    "\n",
    "plt.show()"
   ]
  },
  {
   "cell_type": "markdown",
   "id": "a88f01a2",
   "metadata": {},
   "source": [
    "## Bar graphs"
   ]
  },
  {
   "cell_type": "markdown",
   "id": "71415b91",
   "metadata": {},
   "source": [
    "A  bar graph presents data with heights and lengths proportional to the values they present.\n",
    "\n",
    "Syntax: ax.bar(x, height, width, bottom, align)"
   ]
  },
  {
   "cell_type": "code",
   "execution_count": null,
   "id": "f10bbeef",
   "metadata": {},
   "outputs": [],
   "source": [
    "fig = plt.figure()\n",
    "ax = fig.add_axes([0, 0, 1, 1])\n",
    "section = ['Div-A', 'Div-B', 'Div-C', 'Div-D', 'Div-E']\n",
    "students = [23, 17, 12, 29, 12]\n",
    "ax.bar(section, students)\n",
    "plt.show()"
   ]
  },
  {
   "cell_type": "markdown",
   "id": "3e7b05f2",
   "metadata": {},
   "source": [
    "The axes label is a region of the image with data space. \n",
    "\n",
    "An axes object is added to figure by the add_axes() method. The syntax for the axes object is: ax = fig.add_axes([left,right,width,height])."
   ]
  },
  {
   "cell_type": "markdown",
   "id": "341b71b4",
   "metadata": {},
   "source": [
    "## Scatter Plots"
   ]
  },
  {
   "cell_type": "markdown",
   "id": "2caf1ea9",
   "metadata": {},
   "source": [
    "Scatter plots are used to represent values for two different numeric variables."
   ]
  },
  {
   "cell_type": "code",
   "execution_count": null,
   "id": "c42c697d",
   "metadata": {},
   "outputs": [],
   "source": [
    "girls_grades = [83, 90, 71, 80, 100, 87, 92, 99, 40, 34]\n",
    "boys_grades = [70, 39, 59, 43, 100, 45, 74, 95, 87, 30]\n",
    "grades_range = [10, 20, 30, 40, 50, 60, 70, 80, 90, 100]\n",
    "fig = plt.figure()\n",
    "\n",
    "ax = fig.add_axes([0, 0, 1, 1])\n",
    "ax.scatter(grades_range, girls_grades, color='r')\n",
    "ax.scatter(grades_range, boys_grades, color='b')\n",
    "ax.set_xlabel(\"Grade Range\")\n",
    "ax.set_ylabel(\"Grade score\")\n",
    "ax.set_title(\"scatter plot\")\n",
    "plt.show()"
   ]
  },
  {
   "cell_type": "markdown",
   "id": "7349bf21",
   "metadata": {},
   "source": [
    "## Multiple Plots"
   ]
  },
  {
   "cell_type": "code",
   "execution_count": null,
   "id": "02524386",
   "metadata": {},
   "outputs": [],
   "source": [
    "# Prepare the data series\n",
    "d = [11,12,13,14,15,16,17]\n",
    "t0 = [15.3,15.4,12.6,12.7,13.2,12.3,11.4]\n",
    "t1 = [26.1,26.2,24.3,25.1,26.7,27.8,26.9]\n",
    "t2 = [22.3,20.6,19.8,21.6,21.3,19.4,21.4]\n",
    "\n",
    "# Plot the lines for each data series\n",
    "plt.plot(d,t0)\n",
    "plt.plot(d,t1)\n",
    "plt.plot(d,t2)\n",
    "\n",
    "plt.show()"
   ]
  },
  {
   "cell_type": "markdown",
   "id": "53a2044f",
   "metadata": {},
   "source": [
    "## Multiple plots using scatter"
   ]
  },
  {
   "cell_type": "code",
   "execution_count": null,
   "id": "ac538e44",
   "metadata": {},
   "outputs": [],
   "source": [
    "import numpy as np\n",
    "\n",
    "np.random.seed(100)\n",
    "x = list(range(10))\n",
    "y = x+np.random.rand(10)-0.5\n",
    "\n",
    "#polyfit donne les coefficients du polynome de regression\n",
    "fit = np.polyfit(x,y,1)\n",
    "print(fit)\n",
    "\n",
    "yfit = [n*fit[0] for n in x]+fit[1]\n",
    "plt.scatter(x,y)\n",
    "plt.plot(yfit,'black')\n",
    "\n",
    "plt.show()"
   ]
  },
  {
   "cell_type": "markdown",
   "id": "ce1e76eb",
   "metadata": {},
   "source": [
    "---\n",
    "## Adjusting axes, grids, labels, titles and legends "
   ]
  },
  {
   "cell_type": "markdown",
   "id": "8c23d1d6",
   "metadata": {},
   "source": [
    "Let's go back to our example\n",
    "```python\n",
    "d = [11,12,13,14,15,16,17]\n",
    "\n",
    "t0 = [15.3,12.6,12.7,13.2,12.3,11.4,12.8]\n",
    "t1 = [26.1,26.2,24.3,25.1,26.7,27.8,26.9]\n",
    "t2 = [22.3,20.6,19.8,21.6,21.3,19.4,21.4]\n",
    "\n",
    "plt.plot(d,t0)\n",
    "plt.plot(d,t1)\n",
    "plt.plot(d,t2)\n",
    "\n",
    "plt.xlim(11,15)\n",
    "plt.ylim(0,30)\n",
    "\n",
    "plt.show()\n",
    "```"
   ]
  },
  {
   "cell_type": "markdown",
   "id": "ec5b7f98",
   "metadata": {},
   "source": [
    "Adding labels is done as the following"
   ]
  },
  {
   "cell_type": "code",
   "execution_count": null,
   "id": "297e43bb",
   "metadata": {},
   "outputs": [],
   "source": [
    "d = [11,12,13,14,15,16,17]\n",
    "\n",
    "t0 = [15.3,12.6,12.7,13.2,12.3,11.4,12.8]\n",
    "t1 = [26.1,26.2,24.3,25.1,26.7,27.8,26.9]\n",
    "t2 = [22.3,20.6,19.8,21.6,21.3,19.4,21.4]\n",
    "\n",
    "plt.plot(d,t0)\n",
    "plt.plot(d,t1)\n",
    "plt.plot(d,t2)\n",
    "\n",
    "plt.xlim(11,15)\n",
    "plt.ylim(0,30)\n",
    "\n",
    "plt.xlabel('Date',size=12,fontweight='semibold')\n",
    "plt.ylabel('Temperature (°C)',size=12,fontweight='semibold')\n",
    "\n",
    "plt.show()"
   ]
  },
  {
   "cell_type": "markdown",
   "id": "228f8929",
   "metadata": {},
   "source": [
    "You can also add a grid"
   ]
  },
  {
   "cell_type": "code",
   "execution_count": null,
   "id": "85c1e8ae",
   "metadata": {},
   "outputs": [],
   "source": [
    "d = [11,12,13,14,15,16,17]\n",
    "\n",
    "t0 = [15.3,12.6,12.7,13.2,12.3,11.4,12.8]\n",
    "t1 = [26.1,26.2,24.3,25.1,26.7,27.8,26.9]\n",
    "t2 = [22.3,20.6,19.8,21.6,21.3,19.4,21.4]\n",
    "\n",
    "plt.plot(d,t0)\n",
    "plt.plot(d,t1)\n",
    "plt.plot(d,t2)\n",
    "\n",
    "plt.xlim(11,15)\n",
    "plt.ylim(0,30)\n",
    "\n",
    "plt.xlabel('Date',size=12,fontweight='semibold')\n",
    "plt.ylabel('Temperature (°C)',size=12,fontweight='semibold')\n",
    "\n",
    "plt.grid(True,linewidth=0.5,color='#aaaaaa',linestyle='dashdot')\n",
    "\n",
    "plt.show()"
   ]
  },
  {
   "cell_type": "markdown",
   "id": "c6c769f4",
   "metadata": {},
   "source": [
    "> You can control the aspect of the grid by specifying values for optional arguments\n",
    "```python\n",
    "plt.grid(True,linewidth=0.5,color='#aaaaaa',linestyle='-')\n",
    "```"
   ]
  },
  {
   "cell_type": "markdown",
   "id": "a970553c",
   "metadata": {},
   "source": [
    "Adding a title "
   ]
  },
  {
   "cell_type": "code",
   "execution_count": null,
   "id": "f4921867",
   "metadata": {},
   "outputs": [],
   "source": [
    "d = [11,12,13,14,15,16,17]\n",
    "\n",
    "t0 = [15.3,12.6,12.7,13.2,12.3,11.4,12.8]\n",
    "t1 = [26.1,26.2,24.3,25.1,26.7,27.8,26.9]\n",
    "t2 = [22.3,20.6,19.8,21.6,21.3,19.4,21.4]\n",
    "\n",
    "plt.plot(d,t0)\n",
    "plt.plot(d,t1)\n",
    "plt.plot(d,t2)\n",
    "\n",
    "plt.xlim(11,15)\n",
    "plt.ylim(0,30)\n",
    "\n",
    "plt.xlabel('Date',size=12,fontweight='semibold')\n",
    "plt.ylabel('Temperature (°C)',size=12,fontweight='semibold')\n",
    "\n",
    "plt.grid(True,linewidth=0.5,color='#aaaaaa',linestyle='-')\n",
    "plt.title(\"Daily temperature of 3 cities in the second week of December\", size=14, fontweight='bold')\n",
    "\n",
    "plt.show()"
   ]
  },
  {
   "cell_type": "markdown",
   "id": "41f0eba8",
   "metadata": {},
   "source": [
    "Adding a legend"
   ]
  },
  {
   "cell_type": "code",
   "execution_count": null,
   "id": "01348769",
   "metadata": {},
   "outputs": [],
   "source": [
    "d = [11,12,13,14,15,16,17]\n",
    "\n",
    "t0 = [15.3,12.6,12.7,13.2,12.3,11.4,12.8]\n",
    "t1 = [26.1,26.2,24.3,25.1,26.7,27.8,26.9]\n",
    "t2 = [22.3,20.6,19.8,21.6,21.3,19.4,21.4]\n",
    "\n",
    "plt.plot(d,t0,label='Tokyo')\n",
    "plt.plot(d,t1,label='Hawaii')\n",
    "plt.plot(d,t2,label='Hong Kong')\n",
    "\n",
    "plt.xlim(11,15)\n",
    "plt.ylim(0,30)\n",
    "\n",
    "plt.xlabel('Date',size=12,fontweight='semibold')\n",
    "plt.ylabel('Temperature (°C)',size=12,fontweight='semibold')\n",
    "\n",
    "plt.grid(True,linewidth=0.5,color='#aaaaaa',linestyle='-')\n",
    "\n",
    "plt.title(\"Daily temperature of 3 cities in the second week of December\", size=14, fontweight='bold')\n",
    "\n",
    "plt.legend(loc=\"lower left\")\n",
    "plt.show()"
   ]
  },
  {
   "cell_type": "markdown",
   "id": "e5ba5ee2",
   "metadata": {},
   "source": [
    "## A complete example"
   ]
  },
  {
   "cell_type": "code",
   "execution_count": null,
   "id": "34f3836d",
   "metadata": {},
   "outputs": [],
   "source": [
    "# Import relevant modules\n",
    "import pandas as pd\n",
    "import matplotlib.pyplot as plt\n",
    "\n",
    "# Import dataset\n",
    "crop_prod = pd.read_csv('../data/example.csv',delimiter='\\t')\n",
    "years = crop_prod[crop_prod['Crop']=='SOYBEAN']['Year']\n",
    "rice = crop_prod[crop_prod['Crop']=='RICE']['Value']\n",
    "wheat = crop_prod[crop_prod['Crop']=='WHEAT']['Value']\n",
    "maize = crop_prod[crop_prod['Crop']=='MAIZE']['Value']\n",
    "soybean = crop_prod[crop_prod['Crop']=='SOYBEAN']['Value']\n",
    "\n",
    "# Plot the data series\n",
    "plt.plot(years, rice, label='Rice')\n",
    "plt.plot(years, wheat, label='Wheat')\n",
    "plt.plot(years, maize, label='Maize')\n",
    "plt.plot(years, soybean, label='Soybean')\n",
    "\n",
    "# Label the x- and y-axes\n",
    "plt.xlabel('Year',size=12,fontweight='semibold')\n",
    "plt.ylabel('Thousand tonnes',size=12,fontweight='semibold')\n",
    "\n",
    "# Add grid\n",
    "plt.grid(linestyle='--',color='#888888',alpha=0.4)\n",
    "\n",
    "# Add the title and legend\n",
    "plt.title('Total OECD crop production in 1995-2016', size=14, fontweight='semibold')\n",
    "plt.legend()\n",
    "\n",
    "# Show the figure\n",
    "plt.show()"
   ]
  }
 ],
 "metadata": {
  "hide_input": false,
  "kernelspec": {
   "display_name": "Python 3 (ipykernel)",
   "language": "python",
   "name": "python3"
  },
  "language_info": {
   "codemirror_mode": {
    "name": "ipython",
    "version": 3
   },
   "file_extension": ".py",
   "mimetype": "text/x-python",
   "name": "python",
   "nbconvert_exporter": "python",
   "pygments_lexer": "ipython3",
   "version": "3.8.10"
  }
 },
 "nbformat": 4,
 "nbformat_minor": 5
}
